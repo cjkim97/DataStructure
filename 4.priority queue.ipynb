{
 "cells": [
  {
   "cell_type": "markdown",
   "metadata": {},
   "source": [
    "## 우선순위 큐\n",
    "* 트리-힙 구조로 구현하는 것이 가장 효율적이지만 일단은 리스트로 구현"
   ]
  },
  {
   "cell_type": "code",
   "execution_count": 12,
   "metadata": {},
   "outputs": [],
   "source": [
    "# 데이터 자체가 우선순위(그럼.. 값이 클수록 우선순위가 높은 거라고 가정)\n",
    "\n",
    "class PQueue:\n",
    "    def __init__(self):\n",
    "        self.items = [] # 항목 저장용 리스트\n",
    "        \n",
    "    def isEmpty(self):\n",
    "        return len(self.items)==0\n",
    "    \n",
    "    def size(self):\n",
    "        return len(self.items)\n",
    "    \n",
    "    def clear(self):\n",
    "        self.items = []\n",
    "        \n",
    "    def enqueue(self, item): # 항목 삽입, 리스트 정렬이 필요 없어서 그냥 넣으면 됨\n",
    "        self.items.append(item)\n",
    "        \n",
    "    def findMaxIndex(self) : #최대 우선순위 항목의 인덱스 반환 (최댓값 찾는 기)\n",
    "        if self.isEmpty() : return None\n",
    "        else:\n",
    "            highest = 0\n",
    "            for i in range(1, self.size()):\n",
    "                if self.items[i] > self.items[highest]:\n",
    "                    highest = i\n",
    "            return highest\n",
    "    \n",
    "    def dequeue(self):\n",
    "        h = self.findMaxIndex()\n",
    "        if h is not None :\n",
    "            return self.items.pop(h) # O(n) 복잡도가 생김\n",
    "        \n",
    "    def peek(self):\n",
    "        h = self.findMaxIndex()\n",
    "        return self.items[h]   "
   ]
  },
  {
   "cell_type": "code",
   "execution_count": 13,
   "metadata": {},
   "outputs": [
    {
     "name": "stdout",
     "output_type": "stream",
     "text": [
      "[20, 12, 28, 1040, 5]\n"
     ]
    }
   ],
   "source": [
    "pq = PQueue()\n",
    "pq.enqueue(20)\n",
    "pq.enqueue(12)\n",
    "pq.enqueue(28)\n",
    "pq.enqueue(1040)\n",
    "pq.enqueue(5)\n",
    "print(pq.items)"
   ]
  },
  {
   "cell_type": "code",
   "execution_count": 14,
   "metadata": {},
   "outputs": [
    {
     "name": "stdout",
     "output_type": "stream",
     "text": [
      "1040\n",
      "28\n",
      "20\n",
      "12\n",
      "5\n"
     ]
    }
   ],
   "source": [
    "while not pq.isEmpty():\n",
    "    print(pq.dequeue())"
   ]
  },
  {
   "cell_type": "code",
   "execution_count": 18,
   "metadata": {},
   "outputs": [],
   "source": [
    "# 전략적인 미로 탐색\n",
    "\n",
    "class PQueue:\n",
    "    def __init__(self):\n",
    "        self.items = [] # 항목 저장용 리스트\n",
    "        \n",
    "    def isEmpty(self):\n",
    "        return len(self.items)==0\n",
    "    \n",
    "    def size(self):\n",
    "        return len(self.items)\n",
    "    \n",
    "    def clear(self):\n",
    "        self.items = []\n",
    "        \n",
    "    def enqueue(self, item): # 항목 삽입, 리스트 정렬이 필요 없어서 그냥 넣으면 됨\n",
    "        # item = (x, y, -d)\n",
    "        self.items.append(item)\n",
    "        \n",
    "    def findMaxIndex(self) : #최대 우선순위 항목의 인덱스 반환 (-d 의 최댓값 찾기)\n",
    "        if self.isEmpty() : return None\n",
    "        else:\n",
    "            highest = 0\n",
    "            for i in range(1, self.size()):\n",
    "                if self.items[i][2] > self.items[highest][2]:\n",
    "                    highest = i\n",
    "            return highest\n",
    "    \n",
    "    def dequeue(self):\n",
    "        h = self.findMaxIndex()\n",
    "        if h is not None :\n",
    "            return self.items.pop(h) # O(n) 복잡도가 생김\n",
    "        \n",
    "    def peek(self):\n",
    "        h = self.findMaxIndex()\n",
    "        return self.items[h]   "
   ]
  },
  {
   "cell_type": "code",
   "execution_count": 25,
   "metadata": {},
   "outputs": [],
   "source": [
    "MAP = [['1', '1', '1', '1', '1', '1'],\n",
    "       ['e', '0', '1', '0', '0', '1'],\n",
    "       ['1', '0', '0', '0', '1', '1'],\n",
    "       ['1', '0', '1', '0', '1', '1'],\n",
    "       ['1', '0', '1', '0', '0', 'x'],\n",
    "       ['1', '1', '1', '1', '1', '1'],\n",
    "      ]\n",
    "MAP_SIZE = 6\n",
    "\n",
    "def isValidWay(x, y):\n",
    "    if x<0 or y<0 or x >=MAP_SIZE or y>=MAP_SIZE: # 사이즈 초과시 불가\n",
    "        return False \n",
    "    return MAP[x][y] == '0' or MAP[x][y] == 'x'"
   ]
  },
  {
   "cell_type": "code",
   "execution_count": 29,
   "metadata": {},
   "outputs": [
    {
     "data": {
      "text/plain": [
       "False"
      ]
     },
     "execution_count": 29,
     "metadata": {},
     "output_type": "execute_result"
    }
   ],
   "source": [
    "isValidWay(1, -1)"
   ]
  },
  {
   "cell_type": "code",
   "execution_count": 24,
   "metadata": {},
   "outputs": [],
   "source": [
    "#출구\n",
    "EXIT_X, EXIT_Y = (4, 5)\n",
    "def get_distance(x,y):\n",
    "    return ((x-EXIT_X)**2 + (y-EXIT_Y)**2)**(1/2)"
   ]
  },
  {
   "cell_type": "code",
   "execution_count": 37,
   "metadata": {},
   "outputs": [
    {
     "name": "stdout",
     "output_type": "stream",
     "text": [
      "현재 위치: (1, 0) 우선순위 큐: [(1, 1, -5.0)]\n",
      "현재 위치: (1, 1) 우선순위 큐: [(2, 1, -4.47213595499958)]\n",
      "현재 위치: (2, 1) 우선순위 큐: [(2, 2, -3.605551275463989), (3, 1, -4.123105625617661)]\n",
      "현재 위치: (2, 2) 우선순위 큐: [(3, 1, -4.123105625617661), (2, 3, -2.8284271247461903)]\n",
      "현재 위치: (2, 3) 우선순위 큐: [(3, 1, -4.123105625617661), (1, 3, -3.605551275463989), (3, 3, -2.23606797749979)]\n",
      "현재 위치: (3, 3) 우선순위 큐: [(3, 1, -4.123105625617661), (1, 3, -3.605551275463989), (4, 3, -2.0)]\n",
      "현재 위치: (4, 3) 우선순위 큐: [(3, 1, -4.123105625617661), (1, 3, -3.605551275463989), (4, 4, -1.0)]\n",
      "현재 위치: (4, 4) 우선순위 큐: [(3, 1, -4.123105625617661), (1, 3, -3.605551275463989), (4, 5, -0.0)]\n",
      "도착!\n",
      "CPU times: user 1.67 ms, sys: 0 ns, total: 1.67 ms\n",
      "Wall time: 1.27 ms\n"
     ]
    }
   ],
   "source": [
    "%%time\n",
    "MAP = [['1', '1', '1', '1', '1', '1'],\n",
    "       ['e', '0', '1', '0', '0', '1'],\n",
    "       ['1', '0', '0', '0', '1', '1'],\n",
    "       ['1', '0', '1', '0', '1', '1'],\n",
    "       ['1', '0', '1', '0', '0', 'x'],\n",
    "       ['1', '1', '1', '1', '1', '1'],\n",
    "      ]\n",
    "MAP_SIZE = 6\n",
    "\n",
    "def isValidWay(x, y):\n",
    "    if x<0 or y<0 or x >=MAP_SIZE or y>=MAP_SIZE: # 사이즈 초과시 불가\n",
    "        return False \n",
    "    return MAP[x][y] == '0' or MAP[x][y] == 'x'\n",
    "\n",
    "#출구\n",
    "EXIT_X, EXIT_Y = (4, 5)\n",
    "def get_distance(x,y):\n",
    "    return ((x-EXIT_X)**2 + (y-EXIT_Y)**2)**(1/2)\n",
    "\n",
    "\n",
    "q = PQueue()\n",
    "q.enqueue((1,0,-get_distance(1,0))) # 시작 위치 초기화\n",
    "\n",
    "while not q.isEmpty():\n",
    "    now_x, now_y, _ = q.dequeue() # 현재 위치 ( x, y, -d)\n",
    "    if MAP[now_x][now_y] == 'x' : \n",
    "        print('도착!')\n",
    "        break\n",
    "    MAP[now_x][now_y] = '.'\n",
    "    if isValidWay(now_x, now_y-1) : q.enqueue((now_x, now_y-1, -get_distance(now_x, now_y-1)))\n",
    "    if isValidWay(now_x, now_y+1) : q.enqueue((now_x, now_y+1, -get_distance(now_x, now_y+1)))\n",
    "    if isValidWay(now_x-1, now_y) : q.enqueue((now_x-1, now_y, -get_distance(now_x-1, now_y)))\n",
    "    if isValidWay(now_x+1, now_y) : q.enqueue((now_x+1, now_y, -get_distance(now_x+1, now_y)))\n",
    "    print(f'현재 위치: ({now_x}, {now_y})','우선순위 큐:', q.items)"
   ]
  },
  {
   "cell_type": "code",
   "execution_count": null,
   "metadata": {},
   "outputs": [],
   "source": []
  }
 ],
 "metadata": {
  "kernelspec": {
   "display_name": "Python 3",
   "language": "python",
   "name": "python3"
  },
  "language_info": {
   "codemirror_mode": {
    "name": "ipython",
    "version": 3
   },
   "file_extension": ".py",
   "mimetype": "text/x-python",
   "name": "python",
   "nbconvert_exporter": "python",
   "pygments_lexer": "ipython3",
   "version": "3.8.6"
  }
 },
 "nbformat": 4,
 "nbformat_minor": 4
}
