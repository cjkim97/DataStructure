{
 "cells": [
  {
   "cell_type": "code",
   "execution_count": 1,
   "metadata": {},
   "outputs": [],
   "source": [
    "class DNode:\n",
    "    def __init__(self, elem, prev=None, next=None):\n",
    "        self.data = elem\n",
    "        self.prev = prev\n",
    "        self.next = next"
   ]
  },
  {
   "cell_type": "code",
   "execution_count": 2,
   "metadata": {},
   "outputs": [],
   "source": [
    "class linkedDeque:\n",
    "    def __init__(self):\n",
    "        self.front = None\n",
    "        self.rear = None\n",
    "        \n",
    "    def isEmpty(self) : return self.front == None \n",
    "    \n",
    "    \n",
    "    ### 기능 1-1) 전단 삽입\n",
    "    def addFront(self, item):\n",
    "        node = DNode(item,None,self.front)\n",
    "        if self.isEmpty():\n",
    "            self.front = self.rear = node\n",
    "            \n",
    "        else:\n",
    "            self.front.prev = node\n",
    "            self.front = node\n",
    "    \n",
    "    ### 기능 1-2) 후단 삽입 \n",
    "    def addRear(self, item):\n",
    "        node = DNode(item, self.rear, None)\n",
    "        if self.isEmpty():\n",
    "            self.front = self.rear = node\n",
    "        else:\n",
    "            self.rear.next = node\n",
    "            self.rear = node\n",
    "            \n",
    "    ### 기능 2-1) 전단 삭제\n",
    "    def deleteFront(self):\n",
    "        if not self.isEmpty():\n",
    "            data = self.front.data\n",
    "            self.front = self.front.next\n",
    "            if self.front == None : # 노드가 하나였을 경우\n",
    "                self.rear = None\n",
    "            else:\n",
    "                self.front.prev = None\n",
    "            return data\n",
    "    \n",
    "    ### 기능 2-2) 후단 삭제\n",
    "    def deleteRear(self):\n",
    "        if not self.isEmpty():\n",
    "            data = self.rear.data\n",
    "            self.rear = self.rear.prev\n",
    "            \n",
    "            if self.rear == None : # 노드가 하나였을 경우\n",
    "                self.front = None\n",
    "            else:\n",
    "                self.rear.next = None\n",
    "            return data"
   ]
  },
  {
   "cell_type": "code",
   "execution_count": 7,
   "metadata": {},
   "outputs": [
    {
     "name": "stdout",
     "output_type": "stream",
     "text": [
      "4\n",
      "5\n",
      "4\n",
      "5\n"
     ]
    }
   ],
   "source": [
    "ld = linkedDeque()\n",
    "ld.addFront(4)\n",
    "print(ld.front.data)\n",
    "ld.addFront(5)\n",
    "print(ld.front.data)\n",
    "print(ld.rear.data)\n",
    "ld.deleteRear()\n",
    "print(ld.rear.data)"
   ]
  },
  {
   "cell_type": "code",
   "execution_count": null,
   "metadata": {},
   "outputs": [],
   "source": []
  }
 ],
 "metadata": {
  "kernelspec": {
   "display_name": "Python 3",
   "language": "python",
   "name": "python3"
  },
  "language_info": {
   "codemirror_mode": {
    "name": "ipython",
    "version": 3
   },
   "file_extension": ".py",
   "mimetype": "text/x-python",
   "name": "python",
   "nbconvert_exporter": "python",
   "pygments_lexer": "ipython3",
   "version": "3.8.6"
  }
 },
 "nbformat": 4,
 "nbformat_minor": 4
}
