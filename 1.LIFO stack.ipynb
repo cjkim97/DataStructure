{
 "cells": [
  {
   "cell_type": "code",
   "execution_count": 1,
   "metadata": {},
   "outputs": [],
   "source": [
    "# 자료구조 구현\n",
    "class Stack: # 스택\n",
    "    def __init__(self):\n",
    "        self.stack = []\n",
    "        \n",
    "    def isEmpty(self):\n",
    "        return len(self.stack) == 0\n",
    "    \n",
    "    def push(self, e):\n",
    "        self.stack.append(e)\n",
    "    \n",
    "    def pop(self):\n",
    "        if not self.isEmpty():\n",
    "            return self.stack.pop()\n",
    "    \n",
    "    def peek(self):\n",
    "        if not self.isEmpty():\n",
    "            return self.stack[-1]\n",
    "    \n",
    "    def size(self):   \n",
    "        return len(self.stack)\n",
    "    \n",
    "    def clear(self):\n",
    "        self.stack = []"
   ]
  },
  {
   "cell_type": "code",
   "execution_count": 2,
   "metadata": {},
   "outputs": [],
   "source": [
    "# 괄호검사\n",
    "# 포인트는 짝이 맞는 괄호를 만날때 까지 스택을 쌓았다가 만나면 하나씩 뺌\n",
    "def checkBrackets(statement):\n",
    "    check_stack = Stack() # 체크용 스택\n",
    "    for ch in statement:\n",
    "        if ch in '{[(' : # 여는 괄호 등장했을 시\n",
    "            check_stack.push(ch) # 스택에 넣는다\n",
    "        elif ch in '}])': # 닫는 괄호 등장했을 시\n",
    "            if check_stack.isEmpty() :\n",
    "                return False # 스택이 비어있으면 오류\n",
    "            else:\n",
    "                last = check_stack.pop() # 가장 최근 내용을 빼고 반환\n",
    "                if (ch=='}' and last!='{') or \\\n",
    "                   (ch==']' and last!='[') or \\\n",
    "                   (ch==')' and last!='(') :\n",
    "                    return False # 괄호 짝이 맞지 않으면 오류\n",
    "    return check_stack.isEmpty() # 스택이 비어 있지 않으면 오류"
   ]
  },
  {
   "cell_type": "code",
   "execution_count": 3,
   "metadata": {},
   "outputs": [],
   "source": [
    "str1 = '(서울 {다이너스티가} {우승한다면} (얼마나 좋을까[그런 날이 오기는 할까]))'\n",
    "str2 = '[(태풍 힌남노가 온다는데){사무실은 괜찮을까}{}{}[]'"
   ]
  },
  {
   "cell_type": "code",
   "execution_count": 4,
   "metadata": {},
   "outputs": [
    {
     "name": "stdout",
     "output_type": "stream",
     "text": [
      "(서울 {다이너스티가} {우승한다면} (얼마나 좋을까[그런 날이 오기는 할까])) True\n",
      "[(태풍 힌남노가 온다는데){사무실은 괜찮을까}{}{}[] False\n"
     ]
    }
   ],
   "source": [
    "print(str1, checkBrackets(str1))\n",
    "print(str2, checkBrackets(str2))"
   ]
  },
  {
   "cell_type": "code",
   "execution_count": 5,
   "metadata": {},
   "outputs": [],
   "source": [
    "def precedence(op):\n",
    "    if op in '()' : return 0\n",
    "    if op in '+-' : return 1\n",
    "    if op in '*/' : return 2\n",
    "    return -1\n",
    "\n",
    "# 중위-후위 변환 및 계산식\n",
    "def in2post(expr):\n",
    "    s = Stack()\n",
    "    output = []\n",
    "    for term in expr:\n",
    "        if term=='(': # 1. 여는 괄호면 스택에 쌓음\n",
    "            s.push(term)\n",
    "        elif term==')': # 2. 스택에 여는 괄호가 나올때 까지 output에 출력\n",
    "            while not s.isEmpty():\n",
    "                op = s.pop() \n",
    "                if op == '(': break\n",
    "                else:\n",
    "                    output.append(op) \n",
    "        elif term in '+-*/': \n",
    "            # 3-1. 기존 스택에 우선순위가 높거나 같은 연산자가 있다면 먼저 꺼내 output에 붙임\n",
    "            while not s.isEmpty():\n",
    "                op = s.peek()\n",
    "                if(precedence(term) <=precedence(op)):\n",
    "                    output.append(op)\n",
    "                    s.pop()\n",
    "                else: break\n",
    "            s.push(term) # 3-2. 현재 연산자는 스택에 쌓음\n",
    "        else: # 4. 피 연산자는 output에 출력\n",
    "            output.append(term)\n",
    "    \n",
    "    while not s.isEmpty(): # 5. 스택 남은 항목 전부 출력\n",
    "        output.append(s.pop())\n",
    "    \n",
    "    return output"
   ]
  },
  {
   "cell_type": "code",
   "execution_count": 6,
   "metadata": {},
   "outputs": [],
   "source": [
    "def calPost(expr):\n",
    "    s = Stack()\n",
    "    for term in expr:\n",
    "        if term in '*/-+': # 연산자일 경우\n",
    "            val2 = s.pop()\n",
    "            val1 = s.pop()\n",
    "            if term == '*' : s.push(val1 * val2)\n",
    "            elif term == '/' : s.push(val1 / val2)\n",
    "            elif term == '-' : s.push(val1 - val2)\n",
    "            else : s.push(val1 + val2)\n",
    "        else : # 파연산자일 경우\n",
    "            s.push(float(term))\n",
    "            \n",
    "    return s.pop() # 최종결과 반환"
   ]
  },
  {
   "cell_type": "code",
   "execution_count": 7,
   "metadata": {},
   "outputs": [
    {
     "data": {
      "text/plain": [
       "48.0"
      ]
     },
     "execution_count": 7,
     "metadata": {},
     "output_type": "execute_result"
    }
   ],
   "source": [
    "expr = '(9-(4/2+1))*(5*2-2)'\n",
    "calPost(in2post(expr))"
   ]
  },
  {
   "cell_type": "code",
   "execution_count": 8,
   "metadata": {},
   "outputs": [
    {
     "name": "stdout",
     "output_type": "stream",
     "text": [
      "현재 위치 (1, 0)\n",
      "현재 위치 (1, 1)\n",
      "현재 위치 (1, 2)\n",
      "현재 위치 (1, 3)\n",
      "현재 위치 (1, 4)\n",
      "현재 위치 (2, 3)\n",
      "현재 위치 (3, 3)\n",
      "현재 위치 (3, 4)\n"
     ]
    },
    {
     "data": {
      "text/plain": [
       "[['1', '1', '1', '1', '1', '1'],\n",
       " ['*', '*', '*', '*', '*', '1'],\n",
       " ['1', '0', '1', '*', '1', '1'],\n",
       " ['1', '1', '1', '*', '*', 'x'],\n",
       " ['1', '1', '1', '0', '1', '1'],\n",
       " ['1', '1', '1', '1', '1', '1']]"
      ]
     },
     "metadata": {},
     "output_type": "display_data"
    }
   ],
   "source": [
    "# DFS\n",
    "MAP = [['1', '1', '1', '1', '1', '1'],\n",
    "       ['e', '0', '0', '0', '0', '1'],\n",
    "       ['1', '0', '1', '0', '1', '1'],\n",
    "       ['1', '1', '1', '0', '0', 'x'],\n",
    "       ['1', '1', '1', '0', '1', '1'],\n",
    "       ['1', '1', '1', '1', '1', '1'],\n",
    "      ]\n",
    "MAP_SIZE = 6\n",
    "\n",
    "def isValidWay(x, y):\n",
    "    if x<0 or y<0 or x >=MAP_SIZE or y>=MAP_SIZE: # 사이즈 초과시 불가\n",
    "        return False \n",
    "    return MAP[x][y] == '0' or MAP[x][y] == 'x'\n",
    "\n",
    "# DFS\n",
    "MAP = [['1', '1', '1', '1', '1', '1'],\n",
    "       ['e', '0', '0', '0', '0', '1'],\n",
    "       ['1', '0', '1', '0', '1', '1'],\n",
    "       ['1', '1', '1', '0', '0', 'x'],\n",
    "       ['1', '1', '1', '0', '1', '1'],\n",
    "       ['1', '1', '1', '1', '1', '1'],\n",
    "      ]\n",
    "MAP_SIZE = 6\n",
    "\n",
    "def DFS():\n",
    "    s = Stack()\n",
    "    # 1. 시작 위치 삽입\n",
    "    s.push((1, 0))\n",
    "    \n",
    "    # 2. 상-하-좌-우 탐색\n",
    "    while not s.isEmpty():\n",
    "        here = s.pop() # 가장 최근 위치\n",
    "        # print(here, end = '->')\n",
    "        (x, y) = here\n",
    "        if MAP[x][y] == 'x':\n",
    "            return True # 탐색 완료\n",
    "        else:\n",
    "            MAP[x][y] = '*' # 지나온 표시, 갈 수 있어도 0이 아니므로 무효로 처리\n",
    "            # 상하좌우 탐색\n",
    "            if isValidWay(x-1, y) : s.push((x-1, y))\n",
    "            if isValidWay(x+1, y) : s.push((x+1, y))\n",
    "            if isValidWay(x, y-1) : s.push((x, y-1))\n",
    "            if isValidWay(x, y+1) : s.push((x, y+1))\n",
    "        print('현재 위치', here)\n",
    "    return False\n",
    "\n",
    "DFS()\n",
    "display(MAP)"
   ]
  },
  {
   "cell_type": "code",
   "execution_count": 9,
   "metadata": {},
   "outputs": [
    {
     "name": "stdout",
     "output_type": "stream",
     "text": [
      "현재 위치 (1, 0)\n",
      "현재 위치 (1, 1)\n",
      "현재 위치 (2, 1)\n",
      "현재 위치 (1, 2)\n",
      "현재 위치 (1, 3)\n",
      "현재 위치 (2, 3)\n",
      "현재 위치 (3, 3)\n",
      "현재 위치 (4, 3)\n",
      "현재 위치 (3, 4)\n"
     ]
    },
    {
     "data": {
      "text/plain": [
       "[['1', '1', '1', '1', '1', '1'],\n",
       " ['*', '*', '*', '*', '0', '1'],\n",
       " ['1', '*', '1', '*', '1', '1'],\n",
       " ['1', '1', '1', '*', '*', 'x'],\n",
       " ['1', '1', '1', '*', '1', '1'],\n",
       " ['1', '1', '1', '1', '1', '1']]"
      ]
     },
     "metadata": {},
     "output_type": "display_data"
    }
   ],
   "source": [
    "# DFS\n",
    "MAP = [['1', '1', '1', '1', '1', '1'],\n",
    "       ['e', '0', '0', '0', '0', '1'],\n",
    "       ['1', '0', '1', '0', '1', '1'],\n",
    "       ['1', '1', '1', '0', '0', 'x'],\n",
    "       ['1', '1', '1', '0', '1', '1'],\n",
    "       ['1', '1', '1', '1', '1', '1'],\n",
    "      ]\n",
    "MAP_SIZE = 6\n",
    "\n",
    "def DFS():\n",
    "    s = Stack()\n",
    "    # 1. 시작 위치 삽입\n",
    "    s.push((1, 0))\n",
    "    \n",
    "    # 2. 상-하-좌-우 탐색\n",
    "    while not s.isEmpty():\n",
    "        here = s.pop() # 가장 최근 위치\n",
    "        # print(here, end = '->')\n",
    "        (x, y) = here\n",
    "        if MAP[x][y] == 'x':\n",
    "            return True # 탐색 완료\n",
    "        else:\n",
    "            MAP[x][y] = '*' # 지나온 표시, 갈 수 있어도 0이 아니므로 무효로 처리\n",
    "            # 좌우상하 탐색\n",
    "            if isValidWay(x, y-1) : s.push((x, y-1))\n",
    "            if isValidWay(x, y+1) : s.push((x, y+1))\n",
    "            if isValidWay(x-1, y) : s.push((x-1, y))\n",
    "            if isValidWay(x+1, y) : s.push((x+1, y))\n",
    "        print('현재 위치', here)\n",
    "    return False\n",
    "\n",
    "DFS()\n",
    "display(MAP)"
   ]
  }
 ],
 "metadata": {
  "kernelspec": {
   "display_name": "Python 3",
   "language": "python",
   "name": "python3"
  },
  "language_info": {
   "codemirror_mode": {
    "name": "ipython",
    "version": 3
   },
   "file_extension": ".py",
   "mimetype": "text/x-python",
   "name": "python",
   "nbconvert_exporter": "python",
   "pygments_lexer": "ipython3",
   "version": "3.8.6"
  }
 },
 "nbformat": 4,
 "nbformat_minor": 4
}
