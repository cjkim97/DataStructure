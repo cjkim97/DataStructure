{
 "cells": [
  {
   "cell_type": "code",
   "execution_count": 1,
   "metadata": {},
   "outputs": [],
   "source": [
    "data = [2, 6, 11, 13, 18, 20, 22, 27, 29, 30, 34, 38, 41, 42, 45, 47] # 정렬 되어 있는 데이터\n",
    "data2 = [2, 6, 11, 13, 18, 22, 20, 29, 27, 30, 38, 42, 41, 37, 45, 34] # 마지막에 원하는 키 값이 있는 경우\n",
    "data3 = [34, 2, 6, 11, 13, 18, 22, 20, 29, 27, 30, 38, 42, 41, 37, 45] # 처음에 원하는 키 값이 있는 경우\n",
    "need = 34\n",
    "import time\n",
    "# 원래는 (키 :  값) 으로 이루어져있는 엔트리이지만, 일단 키로만 생각!"
   ]
  },
  {
   "cell_type": "code",
   "execution_count": 2,
   "metadata": {},
   "outputs": [],
   "source": [
    "# 순차 탐색\n",
    "# 처음부터 차근차근 탐색하다 원하는 값이 나오면 인덱스 반환!\n",
    "\n",
    "def SequentialSearch(Data, key):\n",
    "    for i in range(len(Data)):\n",
    "        if Data[i] == key:\n",
    "            return i\n",
    "    return None # 탐색실패"
   ]
  },
  {
   "cell_type": "code",
   "execution_count": 12,
   "metadata": {},
   "outputs": [
    {
     "name": "stdout",
     "output_type": "stream",
     "text": [
      "15 소요시간-- 7.009506225585938e-05\n"
     ]
    }
   ],
   "source": [
    "# data2 - 데이터가 너무 적어서 정확한 시간 비교는 불가\n",
    "start = time.time()\n",
    "print(SequentialSearch(data2, need), '소요시간--', time.time()-start)"
   ]
  },
  {
   "cell_type": "code",
   "execution_count": 13,
   "metadata": {},
   "outputs": [
    {
     "name": "stdout",
     "output_type": "stream",
     "text": [
      "0 소요시간-- 5.9604644775390625e-05\n"
     ]
    }
   ],
   "source": [
    "# data3\n",
    "start = time.time()\n",
    "print(SequentialSearch(data3, need), '소요시간--', time.time()-start)"
   ]
  },
  {
   "cell_type": "code",
   "execution_count": 33,
   "metadata": {},
   "outputs": [],
   "source": [
    "# 이진 탐색\n",
    "def BinarySearch(Data, key, low, high):\n",
    "    # 데이터가 정렬되어 있어야 함\n",
    "    # low = 작은 쪽 인덱스\n",
    "    # high = 큰 쪽 인덱스\n",
    "    \n",
    "    # 조사할 항목이 남아 있는 경우\n",
    "    if low <=high : \n",
    "        middle = (low+high)//2 # 중간 위치\n",
    "        if key == Data[middle]:\n",
    "            return middle # 탐색 완료\n",
    "        elif key < Data[middle]: # 더 작다면 왼쪽 절반 부분으로 재탐색\n",
    "            return BinarySearch(Data, key, low, middle-1) # 재귀형식\n",
    "        else : # 더 크다면 오른쪽 절반부분으로 재탐색\n",
    "            return BinarySearch(Data, key, middle+1, high)\n",
    "    return None # 탐색 실패(조사할 항목이 남아 있지 않음)"
   ]
  },
  {
   "cell_type": "code",
   "execution_count": 15,
   "metadata": {},
   "outputs": [
    {
     "name": "stdout",
     "output_type": "stream",
     "text": [
      "찾는 값 : 34 \n",
      "위치: 10 \n",
      "data[위치]: 34\n"
     ]
    }
   ],
   "source": [
    "print(f'찾는 값 : {need}','\\n위치:', BinarySearch(data, need, 0, len(data)-1), \n",
    "      '\\ndata[위치]:',data[BinarySearch(data, need, 0, len(data)-1)])"
   ]
  },
  {
   "cell_type": "code",
   "execution_count": 39,
   "metadata": {},
   "outputs": [
    {
     "name": "stdout",
     "output_type": "stream",
     "text": [
      "찾는 값 : 43 \n",
      "위치: None\n"
     ]
    }
   ],
   "source": [
    "need = 43\n",
    "print(f'찾는 값 : {need}','\\n위치:', BinarySearch(data, need, 0, len(data)-1))"
   ]
  },
  {
   "cell_type": "code",
   "execution_count": 16,
   "metadata": {},
   "outputs": [],
   "source": [
    "# 이진 탐색_반복문\n",
    "def BinarySearch_iter(Data, key,  low, high):\n",
    "    while low <= high:\n",
    "        middle = (low+high)//2 # 중간 위치\n",
    "        if key == Data[middle]:\n",
    "            return middle\n",
    "        elif key < Data[middle]:\n",
    "            high = middle-1\n",
    "        else:\n",
    "            low = middle+1\n",
    "    return None"
   ]
  },
  {
   "cell_type": "code",
   "execution_count": 17,
   "metadata": {},
   "outputs": [
    {
     "name": "stdout",
     "output_type": "stream",
     "text": [
      "찾는 값 : 34 \n",
      "위치: 10 \n",
      "data[위치]: 34\n"
     ]
    }
   ],
   "source": [
    "print(f'찾는 값 : {need}','\\n위치:', BinarySearch_iter(data, need, 0, len(data)-1), \n",
    "      '\\ndata[위치]:',data[BinarySearch_iter(data, need, 0, len(data)-1)])"
   ]
  },
  {
   "cell_type": "code",
   "execution_count": 56,
   "metadata": {},
   "outputs": [],
   "source": [
    "## 보간 탐색_반복문\n",
    "def InterpolationSearch_iter(Data, key,  low, high):\n",
    "    if low <= high:\n",
    "        middle = int(low + (high-low)  * (key - Data[low]) / (Data[high] - Data[low]))\n",
    "        if key == Data[middle]:\n",
    "            return middle\n",
    "        elif key < Data[middle]:\n",
    "            high = middle-1\n",
    "        else:\n",
    "            low = middle+1\n",
    "            return None\n",
    "    return None"
   ]
  },
  {
   "cell_type": "code",
   "execution_count": 58,
   "metadata": {},
   "outputs": [],
   "source": [
    "InterpolationSearch_iter(data,43,0,15)"
   ]
  }
 ],
 "metadata": {
  "kernelspec": {
   "display_name": "Python 3",
   "language": "python",
   "name": "python3"
  },
  "language_info": {
   "codemirror_mode": {
    "name": "ipython",
    "version": 3
   },
   "file_extension": ".py",
   "mimetype": "text/x-python",
   "name": "python",
   "nbconvert_exporter": "python",
   "pygments_lexer": "ipython3",
   "version": "3.8.6"
  }
 },
 "nbformat": 4,
 "nbformat_minor": 4
}
