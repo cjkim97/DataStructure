{
 "cells": [
  {
   "cell_type": "markdown",
   "metadata": {},
   "source": [
    "## 덱"
   ]
  },
  {
   "cell_type": "code",
   "execution_count": 13,
   "metadata": {},
   "outputs": [
    {
     "data": {
      "text/plain": [
       "2"
      ]
     },
     "execution_count": 13,
     "metadata": {},
     "output_type": "execute_result"
    }
   ],
   "source": [
    "-1%3"
   ]
  },
  {
   "cell_type": "code",
   "execution_count": 1,
   "metadata": {},
   "outputs": [
    {
     "data": {
      "text/plain": [
       "<function IPython.core.display.clear_output(wait=False)>"
      ]
     },
     "execution_count": 1,
     "metadata": {},
     "output_type": "execute_result"
    }
   ],
   "source": [
    "import time\n",
    "from IPython.display import clear_output \n",
    "\n",
    "clear_output`"
   ]
  },
  {
   "cell_type": "code",
   "execution_count": 2,
   "metadata": {},
   "outputs": [],
   "source": [
    "MAX_QSIZE = 10 # 원형 큐 크기\n",
    "\n",
    "class CircularQ:\n",
    "    def __init__(self):\n",
    "        self.front = 0 # 최근 삭제한 항목의 위치, 즉 가장 마지막 항목 그 이전에\n",
    "        self.rear = 0 # 최근 삽입한 항목의 위치\n",
    "        self.items = [None]*MAX_QSIZE # 항목 저장용 리스트\n",
    "        \n",
    "    def isEmpty(self):\n",
    "        # front 와 rear 사이를 항목이라고 보는데, \n",
    "        # front 와 rear 가 같다면? 사이에 항목이 없기 때문에\n",
    "        # 비어있는 것으로 판단\n",
    "        return self.front==self.rear\n",
    "    \n",
    "    def isFull(self) : \n",
    "        # 삽입을 해서 (rear + 1) % MAX_QSIZE 과정을 거쳤더니, front 와 위치가 같아졌다면?\n",
    "        # 크기가 같으면 비어있는 것으로 판단되어야 하는데, 비어있지 않으니 오류다\n",
    "        # 즉 삽입 전까지가 포화상태\n",
    "        return self.front == (self.rear+1)%MAX_QSIZE\n",
    "    \n",
    "    def clear(self) :\n",
    "        # 공백상태가 front 와 rear 가 같을 때였다\n",
    "        # 그럼 같게 만들어주면? 초기화 상태이다\n",
    "        self.front = self.rear\n",
    "        \n",
    "    def enqueue(self, item):\n",
    "        # 항목 삽입에 주의해야할 점은 포화상태, 그리고 rear 가 변한다는 것\n",
    "        if not self.isFull():\n",
    "            self.rear = (self.rear+1)%MAX_QSIZE\n",
    "            self.items[self.rear] = item\n",
    "    \n",
    "    def dequeue(self):\n",
    "        # 항목 삭제에 주의해야할 점은 공백상태, 그리고 front 가 변한다는 것\n",
    "        if not self.isEmpty():\n",
    "            self.front = (self.front+1)%MAX_QSIZE # 회전\n",
    "            return self.items[self.front]\n",
    "    \n",
    "    def peek(self):\n",
    "        if not self.isEmpty():\n",
    "            return self.items[(self.front+1)%MAX_QSIZE]\n",
    "        \n",
    "    def size(self):\n",
    "        # 항목은 front 와 rear 사이로 판단 ( rear - front)\n",
    "        # 예시, front 가 3, rear 가 0이 라고 하자\n",
    "        # [rear, x, x, front, data4, ... , data29]\n",
    "        # 그러면 데이터는 총 26개가 들어있지만,rear - front 는 3\n",
    "        # 따라서 MAX_QSIZE를 더해줘서 모듈러 연산을 진행함\n",
    "        return (self.rear - self.front + MAX_QSIZE)%MAX_QSIZE\n",
    "    \n",
    "    def print_q(self):\n",
    "        if self.front < self.rear:\n",
    "            print(self.items[self.front+1:self.rear+1])\n",
    "        else:\n",
    "            print(self.items[self.front+1:MAX_QSIZE] + self.items[:self.rear+1])"
   ]
  },
  {
   "cell_type": "code",
   "execution_count": 3,
   "metadata": {},
   "outputs": [],
   "source": [
    "class CicularDQ(CircularQ):\n",
    "    def __init__(self):\n",
    "        super().__init__()\n",
    "    \n",
    "    def addFront(self, item):\n",
    "        if not self.isFull():\n",
    "            self.items[self.front] = item\n",
    "            self.front = self.front-1\n",
    "            if self.front < 0 : # 음수가 됐을 경우엔 선형 리스트에서 마지막으로 간다고 생각!\n",
    "                self.front = MAX_QSIZE - 1\n",
    "\n",
    "    def deleteRear(self):\n",
    "        if not self.isEmpty():\n",
    "            item = self.items[self.rear]\n",
    "            self.rear = self.rear-1\n",
    "            if self.rear<0:\n",
    "                self.rear : self.rear = MAX_QSIZE - 1\n",
    "            return item"
   ]
  },
  {
   "cell_type": "code",
   "execution_count": 4,
   "metadata": {},
   "outputs": [],
   "source": [
    "deque = CicularDQ()"
   ]
  },
  {
   "cell_type": "code",
   "execution_count": 12,
   "metadata": {},
   "outputs": [
    {
     "name": "stdout",
     "output_type": "stream",
     "text": [
      "[8, 7, 6, 5, 0, 1, 2, 3, 4]\n",
      "[5, 0, 1, 2]\n"
     ]
    }
   ],
   "source": [
    "deque = CicularDQ()\n",
    "for i in range(9):\n",
    "    if i < 5:\n",
    "        deque.enqueue(i) # 0부터 4까지는 후단 삽입\n",
    "    else:\n",
    "        deque.addFront(i) # 5부터 8까지는 전단 삽입\n",
    "deque.print_q()\n",
    "\n",
    "for _ in range(2):\n",
    "    deque.deleteRear() # 뒤에서 두 번 삭제\n",
    "for _ in range(3):\n",
    "    deque.dequeue() # 앞에서 3번 삭제\n",
    "deque.print_q()"
   ]
  },
  {
   "cell_type": "code",
   "execution_count": null,
   "metadata": {},
   "outputs": [],
   "source": [
    "# 덱 모듈로 구현, 백준 #10866\n",
    "\n",
    "from collections import deque\n",
    "\n",
    "deq = deque()\n",
    "\n",
    "N = int(input())\n",
    "for _ in range(N):\n",
    "    order = input().split()\n",
    "    \n",
    "    if order[0] == 'push_front':\n",
    "        deq.appendleft(int(order[1])) \n",
    "    elif order[0] == 'push_back':\n",
    "        deq.append(int(order[1]))\n",
    "    elif order[0] == 'pop_front':\n",
    "        if len(deq):\n",
    "            print(deq.popleft())\n",
    "        else:\n",
    "            print(-1)\n",
    "    elif order[0] == 'pop_back':\n",
    "        if len(deq):\n",
    "            print(deq.pop())\n",
    "        else:\n",
    "            print(-1)\n",
    "    elif order[0] == 'size':\n",
    "        print(len(deq))\n",
    "    elif order[0] == 'empty':\n",
    "        print(0 if len(deq) else 1)\n",
    "    elif order[0] == 'front':\n",
    "        if len(deq):\n",
    "            print(deq[0])\n",
    "        else:\n",
    "            print(-1)\n",
    "    elif order[0] == 'back':\n",
    "        if len(deq):\n",
    "            print(deq[-1])\n",
    "        else:\n",
    "            print(-1)"
   ]
  }
 ],
 "metadata": {
  "kernelspec": {
   "display_name": "Python 3",
   "language": "python",
   "name": "python3"
  },
  "language_info": {
   "codemirror_mode": {
    "name": "ipython",
    "version": 3
   },
   "file_extension": ".py",
   "mimetype": "text/x-python",
   "name": "python",
   "nbconvert_exporter": "python",
   "pygments_lexer": "ipython3",
   "version": "3.8.6"
  }
 },
 "nbformat": 4,
 "nbformat_minor": 4
}
