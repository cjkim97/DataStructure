{
 "cells": [
  {
   "cell_type": "markdown",
   "metadata": {},
   "source": [
    "## 큐"
   ]
  },
  {
   "cell_type": "code",
   "execution_count": 10,
   "metadata": {},
   "outputs": [
    {
     "data": {
      "text/plain": [
       "<function IPython.core.display.clear_output(wait=False)>"
      ]
     },
     "execution_count": 10,
     "metadata": {},
     "output_type": "execute_result"
    }
   ],
   "source": [
    "import time\n",
    "from IPython.display import clear_output \n",
    "\n",
    "clear_output"
   ]
  },
  {
   "cell_type": "code",
   "execution_count": 2,
   "metadata": {},
   "outputs": [],
   "source": [
    "MAX_QSIZE = 10 # 원형 큐 크기\n",
    "\n",
    "class CircularQ:\n",
    "    def __init__(self):\n",
    "        self.front = 0 # 최근 삭제한 항목의 위치, 즉 가장 마지막 항목 그 이전에\n",
    "        self.rear = 0 # 최근 삽입한 항목의 위치\n",
    "        self.items = [None]*MAX_QSIZE # 항목 저장용 리스트\n",
    "        \n",
    "    def isEmpty(self):\n",
    "        # front 와 rear 사이를 항목이라고 보는데, \n",
    "        # front 와 rear 가 같다면? 사이에 항목이 없기 때문에\n",
    "        # 비어있는 것으로 판단\n",
    "        return self.front==self.rear\n",
    "    \n",
    "    def isFull(self) : \n",
    "        # 삽입을 해서 (rear + 1) % MAX_QSIZE 과정을 거쳤더니, front 와 위치가 같아졌다면?\n",
    "        # 크기가 같으면 비어있는 것으로 판단되어야 하는데, 비어있지 않으니 오류다\n",
    "        # 즉 삽입 전까지가 포화상태\n",
    "        return self.front == (self.rear+1)%MAX_QSIZE\n",
    "    \n",
    "    def clear(self) :\n",
    "        # 공백상태가 front 와 rear 가 같을 때였다\n",
    "        # 그럼 같게 만들어주면? 초기화 상태이다\n",
    "        self.front = self.rear\n",
    "        \n",
    "    def enqueue(self, item):\n",
    "        # 항목 삽입에 주의해야할 점은 포화상태, 그리고 rear 가 변한다는 것\n",
    "        if not self.isFull():\n",
    "            self.rear = (self.rear+1)%MAX_QSIZE\n",
    "            self.items[self.rear] = item\n",
    "    \n",
    "    def dequeue(self):\n",
    "        # 항목 삭제에 주의해야할 점은 공백상태, 그리고 front 가 변한다는 것\n",
    "        if not self.isEmpty():\n",
    "            self.front = (self.front+1)%MAX_QSIZE # 회전\n",
    "            return self.items[self.front]\n",
    "    \n",
    "    def peek(self):\n",
    "        if not self.isEmpty():\n",
    "            return self.items[(self.front+1)%MAX_QSIZE]\n",
    "        \n",
    "    def size(self):\n",
    "        # 항목은 front 와 rear 사이로 판단 ( rear - front)\n",
    "        # 예시, front 가 3, rear 가 0이 라고 하자\n",
    "        # [rear, x, x, front, data4, ... , data29]\n",
    "        # 그러면 데이터는 총 26개가 들어있지만,rear - front 는 3\n",
    "        # 따라서 MAX_QSIZE를 더해줘서 모듈러 연산을 진행함\n",
    "        return (self.rear - self.front + MAX_QSIZE)%MAX_QSIZE\n",
    "    \n",
    "    def print_q(self):\n",
    "        if self.front < self.rear:\n",
    "            print(self.items[self.front+1:self.rear+1])\n",
    "        else:\n",
    "            print(self.items[self.front+1:MAX_QSIZE] + self.items[:self.rear+1])"
   ]
  },
  {
   "cell_type": "code",
   "execution_count": 4,
   "metadata": {},
   "outputs": [
    {
     "name": "stdout",
     "output_type": "stream",
     "text": [
      "[1]\n",
      "[1, 2]\n",
      "[1, 2, 3]\n",
      "[1, 2, 3, 4]\n",
      "[2, 3, 4]\n",
      "[3, 4]\n",
      "[4]\n"
     ]
    }
   ],
   "source": [
    "q =CircularQ()\n",
    "for i in range(1, 5):\n",
    "    q.enqueue(i)\n",
    "    q.print_q()\n",
    "for i in range(3):\n",
    "    q.dequeue()\n",
    "    q.print_q()"
   ]
  },
  {
   "cell_type": "code",
   "execution_count": 12,
   "metadata": {},
   "outputs": [
    {
     "data": {
      "text/plain": [
       "[['1', '1', '1', '1', '1', '1'],\n",
       " ['*', '*', '1', '*', '*', '1'],\n",
       " ['1', '*', '*', '*', '1', '1'],\n",
       " ['1', '*', '1', '*', '1', '1'],\n",
       " ['1', '*', '1', '*', '*', 'x'],\n",
       " ['1', '1', '1', '1', '1', '1']]"
      ]
     },
     "metadata": {},
     "output_type": "display_data"
    }
   ],
   "source": [
    "# DFS\n",
    "MAP = [['1', '1', '1', '1', '1', '1'],\n",
    "       ['e', '0', '1', '0', '0', '1'],\n",
    "       ['1', '0', '0', '0', '1', '1'],\n",
    "       ['1', '0', '1', '0', '1', '1'],\n",
    "       ['1', '0', '1', '0', '0', 'x'],\n",
    "       ['1', '1', '1', '1', '1', '1'],\n",
    "      ]\n",
    "MAP_SIZE = 6\n",
    "\n",
    "def isValidWay(x, y):\n",
    "    if x<0 or y<0 or x >=MAP_SIZE or y>=MAP_SIZE: # 사이즈 초과시 불가\n",
    "        return False \n",
    "    return MAP[x][y] == '0' or MAP[x][y] == 'x'\n",
    "\n",
    "# BFS\n",
    "\n",
    "def BFS():\n",
    "    s = CircularQ()\n",
    "    # 1. 시작 위치 삽입\n",
    "    s.enqueue((1, 0))\n",
    "    \n",
    "    # 2. 상-하-좌-우 탐색\n",
    "    while not s.isEmpty():\n",
    "        here = s.dequeue() # 가장 최근 위치\n",
    "        # print(here, end = '->')\n",
    "        (x, y) = here\n",
    "        if MAP[x][y] == 'x':\n",
    "            return True # 탐색 완료\n",
    "        else:\n",
    "            MAP[x][y] = '*' # 지나온 표시, 갈 수 있어도 0이 아니므로 무효로 처리\n",
    "            # 상하좌우 탐색\n",
    "            if isValidWay(x-1, y) : s.enqueue((x-1, y))\n",
    "            if isValidWay(x+1, y) : s.enqueue((x+1, y))\n",
    "            if isValidWay(x, y-1) : s.enqueue((x, y-1))\n",
    "            if isValidWay(x, y+1) : s.enqueue((x, y+1))\n",
    "        display(MAP)\n",
    "        time.sleep(1)\n",
    "        clear_output()\n",
    "    return False\n",
    "\n",
    "BFS()\n",
    "display(MAP)"
   ]
  },
  {
   "cell_type": "code",
   "execution_count": 14,
   "metadata": {},
   "outputs": [
    {
     "name": "stdout",
     "output_type": "stream",
     "text": [
      "deque([1])\n",
      "deque([1, 2])\n",
      "deque([1, 2, 3])\n",
      "deque([1, 2, 3, 4])\n",
      "deque([1, 2, 3, 4, 5])\n",
      "deque([2, 3, 4, 5])\n",
      "deque([3, 4, 5])\n",
      "deque([4, 5])\n"
     ]
    }
   ],
   "source": [
    "import queue\n",
    "\n",
    "q = queue.Queue(maxsize=10)\n",
    "for i in range(1, 6):\n",
    "    q.put(i)\n",
    "    print(q.queue)\n",
    "for i in range(3):\n",
    "    q.get()\n",
    "    print(q.queue)"
   ]
  }
 ],
 "metadata": {
  "kernelspec": {
   "display_name": "Python 3",
   "language": "python",
   "name": "python3"
  },
  "language_info": {
   "codemirror_mode": {
    "name": "ipython",
    "version": 3
   },
   "file_extension": ".py",
   "mimetype": "text/x-python",
   "name": "python",
   "nbconvert_exporter": "python",
   "pygments_lexer": "ipython3",
   "version": "3.8.6"
  }
 },
 "nbformat": 4,
 "nbformat_minor": 4
}
