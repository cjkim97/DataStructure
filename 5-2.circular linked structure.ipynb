{
 "cells": [
  {
   "cell_type": "code",
   "execution_count": 1,
   "metadata": {},
   "outputs": [],
   "source": [
    "class Node:\n",
    "    def __init__(self, data, link=None):\n",
    "        self.data = data\n",
    "        self.link = link"
   ]
  },
  {
   "cell_type": "code",
   "execution_count": 3,
   "metadata": {},
   "outputs": [],
   "source": [
    "class CircularLinkedQueue:\n",
    "    def __init__(self):\n",
    "        self.tail = None # 유일한 데이터\n",
    "        \n",
    "    def isEmpty(self) : return self.tail == None \n",
    "    def clear(self) : return self.tail==None\n",
    "    def peek(self) : #front 의 데이터를 반환\n",
    "        if not self.isEmpty(): \n",
    "            return self.tail.link.data\n",
    "        \n",
    "    ### 기능 1) enqueue() 삽입 연산\n",
    "    def enqueue(self, item):\n",
    "        node = Node(item, None)\n",
    "        if self.isEmpty() : \n",
    "            node.link = node\n",
    "            self.tail = node\n",
    "            \n",
    "        else:\n",
    "            node.link = self.tail.link\n",
    "            self.tail.link = node\n",
    "            self.tail = node\n",
    "    ### 기능 2) dequeue() 삭제 연산\n",
    "    def dequeue(self):\n",
    "        if not self.isEmpty(): # 항목이 존재\n",
    "            data = self.tail.link.data # front 노드의 데이터\n",
    "            if self.tail.link == self.tail : # 항목이 1개\n",
    "                self.tail = None\n",
    "            else : # 항목이 2개 이상\n",
    "                self.tail.link = self.tail.link.link # 두번째 노드를 가리킴\n",
    "            return data"
   ]
  },
  {
   "cell_type": "code",
   "execution_count": 10,
   "metadata": {},
   "outputs": [
    {
     "name": "stdout",
     "output_type": "stream",
     "text": [
      "5\n",
      "6\n"
     ]
    }
   ],
   "source": [
    "clq = CircularLinkedQueue()\n",
    "clq.enqueue(5)\n",
    "print(clq.tail.link.data)\n",
    "clq.enqueue(6)\n",
    "clq.dequeue()\n",
    "print(clq.tail.link.data)"
   ]
  },
  {
   "cell_type": "code",
   "execution_count": 5,
   "metadata": {},
   "outputs": [],
   "source": [
    "clq.enqueue(5)\n",
    "c"
   ]
  },
  {
   "cell_type": "code",
   "execution_count": 6,
   "metadata": {},
   "outputs": [
    {
     "data": {
      "text/plain": [
       "5"
      ]
     },
     "execution_count": 6,
     "metadata": {},
     "output_type": "execute_result"
    }
   ],
   "source": [
    "clq.tail.link.data"
   ]
  },
  {
   "cell_type": "code",
   "execution_count": null,
   "metadata": {},
   "outputs": [],
   "source": []
  }
 ],
 "metadata": {
  "kernelspec": {
   "display_name": "Python 3",
   "language": "python",
   "name": "python3"
  },
  "language_info": {
   "codemirror_mode": {
    "name": "ipython",
    "version": 3
   },
   "file_extension": ".py",
   "mimetype": "text/x-python",
   "name": "python",
   "nbconvert_exporter": "python",
   "pygments_lexer": "ipython3",
   "version": "3.8.6"
  }
 },
 "nbformat": 4,
 "nbformat_minor": 4
}
